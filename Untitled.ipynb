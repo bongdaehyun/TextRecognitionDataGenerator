{
 "cells": [
  {
   "cell_type": "code",
   "execution_count": 1,
   "metadata": {},
   "outputs": [],
   "source": [
    "import re\n",
    "import os\n"
   ]
  },
  {
   "cell_type": "code",
   "execution_count": 4,
   "metadata": {},
   "outputs": [
    {
     "data": {
      "text/plain": [
       "['jp.txt',\n",
       " 'special_char.txt',\n",
       " 'japan.txt',\n",
       " 'ko.txt',\n",
       " 'de.txt',\n",
       " 'es.txt',\n",
       " 'latin.txt',\n",
       " 'cn.txt',\n",
       " 'sjnk.txt',\n",
       " 'fr.txt',\n",
       " 'en.txt']"
      ]
     },
     "execution_count": 4,
     "metadata": {},
     "output_type": "execute_result"
    }
   ],
   "source": [
    "os.listdir(\"./dicts\")"
   ]
  },
  {
   "cell_type": "code",
   "execution_count": 28,
   "metadata": {},
   "outputs": [],
   "source": [
    "p = re.compile('[1-9-=^&\\'.#/?:$}]')\n",
    "with open(\"./dicts/en.txt\",'r') as f:\n",
    "    with open(\"./dicts/en1.txt\",\"w\") as f1:\n",
    "        while True:\n",
    "            line=f.readline()\n",
    "            if not line:\n",
    "                break\n",
    "            m=p.search(line)\n",
    "            if not m:\n",
    "                f1.write(line)"
   ]
  },
  {
   "cell_type": "code",
   "execution_count": 21,
   "metadata": {},
   "outputs": [
    {
     "name": "stdout",
     "output_type": "stream",
     "text": [
      "dd\n"
     ]
    }
   ],
   "source": [
    "i='ada-sdavz^--'\n",
    "p = re.compile('[-=^.#/?:$}]')\n",
    "#parse = re.sub('[-=^.#/?:$}]', ' ', i)\n",
    "m=p.search(i)\n",
    "if m:\n",
    "    print(\"dd\")\n",
    "else:\n",
    "    print(\"no\")\n"
   ]
  },
  {
   "cell_type": "code",
   "execution_count": 84,
   "metadata": {
    "scrolled": true
   },
   "outputs": [],
   "source": [
    "with open(\"10manko.txt\",\"r\") as f:\n",
    "    with open(\"2wordko.txt\",\"a\") as f1:\n",
    "        while True:\n",
    "            line=f.readline()\n",
    "            if not line:\n",
    "                break\n",
    "            if len(line) ==3:\n",
    "                f1.write(line)"
   ]
  },
  {
   "cell_type": "code",
   "execution_count": 6,
   "metadata": {},
   "outputs": [
    {
     "name": "stdout",
     "output_type": "stream",
     "text": [
      "안녕 바보 하이 abcd\n"
     ]
    }
   ],
   "source": [
    "with open(\"test.txt\",\"r\") as f:\n",
    "    line=f.readlines()\n",
    "print(line[0][:-1])    "
   ]
  }
 ],
 "metadata": {
  "kernelspec": {
   "display_name": "Python 3",
   "language": "python",
   "name": "python3"
  },
  "language_info": {
   "codemirror_mode": {
    "name": "ipython",
    "version": 3
   },
   "file_extension": ".py",
   "mimetype": "text/x-python",
   "name": "python",
   "nbconvert_exporter": "python",
   "pygments_lexer": "ipython3",
   "version": "3.6.9"
  }
 },
 "nbformat": 4,
 "nbformat_minor": 2
}
